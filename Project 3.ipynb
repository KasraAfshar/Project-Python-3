{
 "cells": [
  {
   "cell_type": "code",
   "execution_count": null,
   "id": "0700e2c7-a8a9-4857-a98a-a7965c9ecedc",
   "metadata": {},
   "outputs": [],
   "source": []
  },
  {
   "cell_type": "code",
   "execution_count": 10,
   "id": "9da74b50-bd32-4b61-8544-77a94cf0f1d5",
   "metadata": {
    "editable": true,
    "slideshow": {
     "slide_type": ""
    },
    "tags": []
   },
   "outputs": [
    {
     "name": "stdout",
     "output_type": "stream",
     "text": [
      "{8.0}\n"
     ]
    }
   ],
   "source": [
    "def calculate_B(a, b, c):\n",
    "    \n",
    "    B = a / c + b\n",
    "    return B\n",
    "a = int(15)\n",
    "b = int(3)\n",
    "c = int(3)\n",
    "result = calculate_B(a, b, c)\n",
    "print( {result})\n"
   ]
  },
  {
   "cell_type": "code",
   "execution_count": 14,
   "id": "2898dd5a-b819-40ed-a982-640664d482f0",
   "metadata": {},
   "outputs": [
    {
     "name": "stdout",
     "output_type": "stream",
     "text": [
      "{6.0}\n"
     ]
    }
   ],
   "source": [
    "def calculate_y(a, b, x):\n",
    " \n",
    "    y = (b * x) / (a / x)\n",
    "    return y\n",
    "a = int(8)\n",
    "b = int(3)\n",
    "x = int(4)\n",
    "result = calculate_y(a, b, x)\n",
    "print( {result})\n"
   ]
  },
  {
   "cell_type": "code",
   "execution_count": 19,
   "id": "10766951-38d7-4c72-891e-33c1542d1a2e",
   "metadata": {},
   "outputs": [
    {
     "name": "stdout",
     "output_type": "stream",
     "text": [
      "مساحت دایره با شعاع 5 برابر است با: 78.5\n"
     ]
    }
   ],
   "source": [
    "def area(radius):\n",
    "    pi = 3.14\n",
    "    area = pi * radius**2\n",
    "    return area\n",
    "radius =int(5)\n",
    "\n",
    "area = area(radius)\n",
    "print(f\"مساحت دایره با شعاع {radius} برابر است با: {area}\")\n"
   ]
  },
  {
   "cell_type": "code",
   "execution_count": null,
   "id": "4032ed66-d996-408a-a6c3-c5d1526ee200",
   "metadata": {},
   "outputs": [],
   "source": []
  }
 ],
 "metadata": {
  "kernelspec": {
   "display_name": "Python 3 (ipykernel)",
   "language": "python",
   "name": "python3"
  },
  "language_info": {
   "codemirror_mode": {
    "name": "ipython",
    "version": 3
   },
   "file_extension": ".py",
   "mimetype": "text/x-python",
   "name": "python",
   "nbconvert_exporter": "python",
   "pygments_lexer": "ipython3",
   "version": "3.13.1"
  }
 },
 "nbformat": 4,
 "nbformat_minor": 5
}
